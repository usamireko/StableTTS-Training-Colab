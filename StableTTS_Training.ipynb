{
  "cells": [
    {
      "cell_type": "markdown",
      "metadata": {
        "id": "view-in-github",
        "colab_type": "text"
      },
      "source": [
        "<a href=\"https://colab.research.google.com/github/usamireko/StableTTS-Training-Colab/blob/main/StableTTS_Training.ipynb\" target=\"_parent\"><img src=\"https://colab.research.google.com/assets/colab-badge.svg\" alt=\"Open In Colab\"/></a>"
      ]
    },
    {
      "cell_type": "code",
      "execution_count": null,
      "metadata": {
        "id": "xIlQplvca68K",
        "cellView": "form"
      },
      "outputs": [],
      "source": [
        "#@markdown Installation\n",
        "from google.colab import drive\n",
        "drive.mount(\"/content/drive\")\n",
        "!git clone https://github.com/KdaiP/StableTTS.git\n",
        "%cd /content/StableTTS\n",
        "!pip install -r requirements.txt"
      ]
    },
    {
      "cell_type": "code",
      "execution_count": null,
      "metadata": {
        "id": "RrLkZUMIc-Cz",
        "cellView": "form"
      },
      "outputs": [],
      "source": [
        "#@markdown A pretrained model will be downloaded in the folder checkpoints created for you inside the StableTTS folder on you GDrive :)\n",
        "project_name = \"\" #@param {type:\"string\"}\n",
        "!mkdir /content/drive/MyDrive/StableTTS/{project_name}\n",
        "!mkdir /content/drive/MyDrive/StableTTS/{project_name}/checkpoints\n",
        "!mkdir /content/drive/MyDrive/StableTTS/{project_name}/wavs\n",
        "!mkdir /content/drive/MyDrive/StableTTS/{project_name}/logs\n",
        "!wget \"https://huggingface.co/KdaiP/StableTTS1.1/resolve/main/StableTTS/checkpoint_0.pt\" -O /content/drive/MyDrive/StableTTS/{project_name}/checkpoints/checkpoint_0.pt"
      ]
    },
    {
      "cell_type": "code",
      "source": [
        "#@markdown Download the FireFly-GAN vocoder\n",
        "!wget \"https://github.com/fishaudio/vocoder/releases/download/1.0.0/firefly-gan-base-generator.ckpt\" -O /content/StableTTS/vocoders/pretrained/firefly-gan-base-generator.ckpt"
      ],
      "metadata": {
        "cellView": "form",
        "id": "GghVEvC2XcEh"
      },
      "execution_count": null,
      "outputs": []
    },
    {
      "cell_type": "markdown",
      "source": [
        "Now upload your wav files into the wavs folder created inside the StableTTS/{project_name} folder\n",
        "\n",
        "Your list should have been adapted to point the full path of the wav instead of just \"wavs/xxx.wav\" as in Tacotron2"
      ],
      "metadata": {
        "id": "WYoKgqArsx4u"
      }
    },
    {
      "cell_type": "markdown",
      "metadata": {
        "id": "M6dfYzOwP5Nd"
      },
      "source": [
        "Edit preprocess.py to put the paths of the wav folder, the converted txt list and the txt file itself under `DataConfing`\n",
        "\n",
        "**Variables that needs to be edited**\n",
        "\n",
        "*Paths inside \" \" should be the ones used if followed step by step this notebook, so just copy and paste to those variables with {project_name} replaced by the name you chose earlier :3*\n",
        "\n",
        "```\n",
        "*   input_filelist_path : \"/content/drive/MyDrive/StableTTS/{project_name}/\"\n",
        "*   output_filelist_path: \"/content/drive/MyDrive/StableTTS/{project_name}/filelist.json\"\n",
        "*   output_feature_path: \"/content/drive/MyDrive/StableTTS/{project_name}\"\n",
        "*   language: english, japanese, chinese, depending of your dataset\n",
        "```\n"
      ]
    },
    {
      "cell_type": "code",
      "execution_count": null,
      "metadata": {
        "id": "o5rMeBmMd0DP"
      },
      "outputs": [],
      "source": [
        "!python preprocess.py"
      ]
    },
    {
      "cell_type": "markdown",
      "metadata": {
        "id": "E6WgVFGbQhCz"
      },
      "source": [
        "Edit config.py to adapt to your session\n",
        "\n",
        "**Variables that need to be modified under `TrainConfig`**\n",
        "\n",
        "*Paths inside \" \" should be the ones used if followed step by step this notebook, so just copy and paste to those variables with {project_name} replaced by the name you chose earlier :3*\n",
        "\n",
        "```\n",
        "*   train_dataset_path: filelist.json path \"/content/drive/MyDrive/StableTTS/{project_name}/filelist.json\"\n",
        "*   test_dataset_path: filelist.json path \"/content/drive/MyDrive/StableTTS/{project_name}/filelist.json\"(Not used)\n",
        "*   model_save_path: It really explains itself \"/content/drive/MyDrive/StableTTS/{project_name}/checkpoints\"\n",
        "*   log_dir: Path where the logs will be saved \"/content/drive/MyDrive/StableTTS/{project_name}/logs\"\n",
        "*   log_interval: Every x epochs logs will be saved\n",
        "*   save_interval: Same stuff than log but with the checkpoints\n",
        "```\n",
        "\n",
        "\n",
        "**Variables that you _might_ want to modify later in the future if needed**\n",
        "\n",
        "\n",
        "```\n",
        "*   batch_size\n",
        "*   learning_rate\n",
        "*   num_epochs\n",
        "```\n",
        "\n",
        "\n",
        "\n",
        "\n",
        "\n",
        "\n"
      ]
    },
    {
      "cell_type": "code",
      "execution_count": null,
      "metadata": {
        "id": "YVhhTJssegbf",
        "cellView": "form"
      },
      "outputs": [],
      "source": [
        "#@markdown Start training!\n",
        "%load_ext tensorboard\n",
        "%tensorboard --logdir /content/drive/MyDrive/StableTTS/{project_name}/logs\n",
        "!python train.py"
      ]
    },
    {
      "cell_type": "markdown",
      "source": [],
      "metadata": {
        "id": "yOGClOJOl6QX"
      }
    },
    {
      "cell_type": "code",
      "execution_count": null,
      "metadata": {
        "id": "ELfM9tM6fyUK",
        "cellView": "form"
      },
      "outputs": [],
      "source": [
        "#@markdown Inference Tab!\n",
        "from IPython.display import Audio, display\n",
        "import torch\n",
        "\n",
        "from api import StableTTSAPI\n",
        "\n",
        "device = 'cuda' if torch.cuda.is_available() else 'cpu'\n",
        "\n",
        "tts_model_path = '' #@param {type:\"string\"}\n",
        "vocoder_model_path = '/content/StableTTS/vocoders/pretrained/firefly-gan-base-generator.ckpt' # path to vocoder checkpoint\n",
        "vocoder_type = 'ffgan' # ffgan or vocos\n",
        "\n",
        "# vocoder_model_path = './vocoders/pretrained/vocos.pt'\n",
        "# vocoder_type = 'vocos'\n",
        "\n",
        "model = StableTTSAPI(tts_model_path, vocoder_model_path, vocoder_type)\n",
        "model.to(device)\n",
        "\n",
        "tts_param, vocoder_param = model.get_params()\n",
        "print(f'tts_param: {tts_param}, vocoder_param: {vocoder_param}')"
      ]
    },
    {
      "cell_type": "markdown",
      "source": [],
      "metadata": {
        "id": "UkGA6lHyX_Nz"
      }
    },
    {
      "cell_type": "code",
      "execution_count": null,
      "metadata": {
        "id": "EYitjaZ5fz1H",
        "cellView": "form"
      },
      "outputs": [],
      "source": [
        "text = 'test' #@param {type:\"string\"}\n",
        "ref_audio = 'path'#@param {type:\"string\"}\n",
        "language = 'english' #@param [\"english\", \"japanese\", \"chinese\"]\n",
        "solver = 'dopri5' #@param [\"dopri5\", \"euler\", \"midpoint\"]\n",
        "steps = 30 #@param {type:\"slider\", min:0, max:50, step:1}\n",
        "cfg = 3  #@param {type:\"slider\", min:0, max:10, step:1}\n",
        "\n",
        "audio_output, mel_output = model.inference(text, ref_audio, language, steps, 1, 1, solver, cfg)\n",
        "\n",
        "display(Audio(ref_audio))\n",
        "display(Audio(audio_output, rate=model.mel_config.sample_rate))"
      ]
    }
  ],
  "metadata": {
    "colab": {
      "provenance": [],
      "gpuType": "T4",
      "authorship_tag": "ABX9TyOKuywiW8Tgjaw5/vvPRG+W",
      "include_colab_link": true
    },
    "kernelspec": {
      "display_name": "Python 3",
      "name": "python3"
    },
    "language_info": {
      "name": "python"
    },
    "accelerator": "GPU"
  },
  "nbformat": 4,
  "nbformat_minor": 0
}